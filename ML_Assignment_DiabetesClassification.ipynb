{
 "cells": [
  {
   "cell_type": "code",
   "execution_count": 27,
   "metadata": {},
   "outputs": [],
   "source": [
    "#Importing required libraries\n",
    "import sys\n",
    "import numpy\n",
    "\n",
    "import pandas\n",
    "from pandas.plotting import scatter_matrix\n",
    "import matplotlib.pyplot as plt\n",
    "\n",
    "from keras.models import Sequential\n",
    "from keras.layers import Dense"
   ]
  },
  {
   "cell_type": "code",
   "execution_count": 28,
   "metadata": {},
   "outputs": [],
   "source": [
    "names = ['PregnancyCount', 'Glucose', 'BloodPressure', 'SkinThickness', 'SerumInsulin', 'BMI', 'DiabetesPedigreeFunction', 'Age', 'Diabetic']\n",
    "dataset = pandas.read_csv(\"pima-indians-diabetes.data.csv\", names=names, delimiter=\",\")"
   ]
  },
  {
   "cell_type": "code",
   "execution_count": 29,
   "metadata": {
    "scrolled": true
   },
   "outputs": [
    {
     "data": {
      "text/html": [
       "<div>\n",
       "<style scoped>\n",
       "    .dataframe tbody tr th:only-of-type {\n",
       "        vertical-align: middle;\n",
       "    }\n",
       "\n",
       "    .dataframe tbody tr th {\n",
       "        vertical-align: top;\n",
       "    }\n",
       "\n",
       "    .dataframe thead th {\n",
       "        text-align: right;\n",
       "    }\n",
       "</style>\n",
       "<table border=\"1\" class=\"dataframe\">\n",
       "  <thead>\n",
       "    <tr style=\"text-align: right;\">\n",
       "      <th></th>\n",
       "      <th>PregnancyCount</th>\n",
       "      <th>Glucose</th>\n",
       "      <th>BloodPressure</th>\n",
       "      <th>SkinThickness</th>\n",
       "      <th>SerumInsulin</th>\n",
       "      <th>BMI</th>\n",
       "      <th>DiabetesPedigreeFunction</th>\n",
       "      <th>Age</th>\n",
       "      <th>Diabetic</th>\n",
       "    </tr>\n",
       "  </thead>\n",
       "  <tbody>\n",
       "    <tr>\n",
       "      <th>0</th>\n",
       "      <td>6</td>\n",
       "      <td>148</td>\n",
       "      <td>72</td>\n",
       "      <td>35</td>\n",
       "      <td>0</td>\n",
       "      <td>33.6</td>\n",
       "      <td>0.627</td>\n",
       "      <td>50</td>\n",
       "      <td>1</td>\n",
       "    </tr>\n",
       "    <tr>\n",
       "      <th>1</th>\n",
       "      <td>1</td>\n",
       "      <td>85</td>\n",
       "      <td>66</td>\n",
       "      <td>29</td>\n",
       "      <td>0</td>\n",
       "      <td>26.6</td>\n",
       "      <td>0.351</td>\n",
       "      <td>31</td>\n",
       "      <td>0</td>\n",
       "    </tr>\n",
       "    <tr>\n",
       "      <th>2</th>\n",
       "      <td>8</td>\n",
       "      <td>183</td>\n",
       "      <td>64</td>\n",
       "      <td>0</td>\n",
       "      <td>0</td>\n",
       "      <td>23.3</td>\n",
       "      <td>0.672</td>\n",
       "      <td>32</td>\n",
       "      <td>1</td>\n",
       "    </tr>\n",
       "    <tr>\n",
       "      <th>3</th>\n",
       "      <td>1</td>\n",
       "      <td>89</td>\n",
       "      <td>66</td>\n",
       "      <td>23</td>\n",
       "      <td>94</td>\n",
       "      <td>28.1</td>\n",
       "      <td>0.167</td>\n",
       "      <td>21</td>\n",
       "      <td>0</td>\n",
       "    </tr>\n",
       "    <tr>\n",
       "      <th>4</th>\n",
       "      <td>0</td>\n",
       "      <td>137</td>\n",
       "      <td>40</td>\n",
       "      <td>35</td>\n",
       "      <td>168</td>\n",
       "      <td>43.1</td>\n",
       "      <td>2.288</td>\n",
       "      <td>33</td>\n",
       "      <td>1</td>\n",
       "    </tr>\n",
       "  </tbody>\n",
       "</table>\n",
       "</div>"
      ],
      "text/plain": [
       "   PregnancyCount  Glucose  BloodPressure  SkinThickness  SerumInsulin   BMI  \\\n",
       "0               6      148             72             35             0  33.6   \n",
       "1               1       85             66             29             0  26.6   \n",
       "2               8      183             64              0             0  23.3   \n",
       "3               1       89             66             23            94  28.1   \n",
       "4               0      137             40             35           168  43.1   \n",
       "\n",
       "   DiabetesPedigreeFunction  Age  Diabetic  \n",
       "0                     0.627   50         1  \n",
       "1                     0.351   31         0  \n",
       "2                     0.672   32         1  \n",
       "3                     0.167   21         0  \n",
       "4                     2.288   33         1  "
      ]
     },
     "execution_count": 29,
     "metadata": {},
     "output_type": "execute_result"
    }
   ],
   "source": [
    "dataset.head()"
   ]
  },
  {
   "cell_type": "code",
   "execution_count": 30,
   "metadata": {},
   "outputs": [
    {
     "data": {
      "text/plain": [
       "(768, 9)"
      ]
     },
     "execution_count": 30,
     "metadata": {},
     "output_type": "execute_result"
    }
   ],
   "source": [
    "dataset.shape"
   ]
  },
  {
   "cell_type": "code",
   "execution_count": 31,
   "metadata": {},
   "outputs": [
    {
     "data": {
      "text/html": [
       "<div>\n",
       "<style scoped>\n",
       "    .dataframe tbody tr th:only-of-type {\n",
       "        vertical-align: middle;\n",
       "    }\n",
       "\n",
       "    .dataframe tbody tr th {\n",
       "        vertical-align: top;\n",
       "    }\n",
       "\n",
       "    .dataframe thead th {\n",
       "        text-align: right;\n",
       "    }\n",
       "</style>\n",
       "<table border=\"1\" class=\"dataframe\">\n",
       "  <thead>\n",
       "    <tr style=\"text-align: right;\">\n",
       "      <th></th>\n",
       "      <th>PregnancyCount</th>\n",
       "      <th>Glucose</th>\n",
       "      <th>BloodPressure</th>\n",
       "      <th>SkinThickness</th>\n",
       "      <th>SerumInsulin</th>\n",
       "      <th>BMI</th>\n",
       "      <th>DiabetesPedigreeFunction</th>\n",
       "      <th>Age</th>\n",
       "      <th>Diabetic</th>\n",
       "    </tr>\n",
       "  </thead>\n",
       "  <tbody>\n",
       "    <tr>\n",
       "      <th>count</th>\n",
       "      <td>768.000000</td>\n",
       "      <td>768.000000</td>\n",
       "      <td>768.000000</td>\n",
       "      <td>768.000000</td>\n",
       "      <td>768.000000</td>\n",
       "      <td>768.000000</td>\n",
       "      <td>768.000000</td>\n",
       "      <td>768.000000</td>\n",
       "      <td>768.000000</td>\n",
       "    </tr>\n",
       "    <tr>\n",
       "      <th>mean</th>\n",
       "      <td>3.845052</td>\n",
       "      <td>120.894531</td>\n",
       "      <td>69.105469</td>\n",
       "      <td>20.536458</td>\n",
       "      <td>79.799479</td>\n",
       "      <td>31.992578</td>\n",
       "      <td>0.471876</td>\n",
       "      <td>33.240885</td>\n",
       "      <td>0.348958</td>\n",
       "    </tr>\n",
       "    <tr>\n",
       "      <th>std</th>\n",
       "      <td>3.369578</td>\n",
       "      <td>31.972618</td>\n",
       "      <td>19.355807</td>\n",
       "      <td>15.952218</td>\n",
       "      <td>115.244002</td>\n",
       "      <td>7.884160</td>\n",
       "      <td>0.331329</td>\n",
       "      <td>11.760232</td>\n",
       "      <td>0.476951</td>\n",
       "    </tr>\n",
       "    <tr>\n",
       "      <th>min</th>\n",
       "      <td>0.000000</td>\n",
       "      <td>0.000000</td>\n",
       "      <td>0.000000</td>\n",
       "      <td>0.000000</td>\n",
       "      <td>0.000000</td>\n",
       "      <td>0.000000</td>\n",
       "      <td>0.078000</td>\n",
       "      <td>21.000000</td>\n",
       "      <td>0.000000</td>\n",
       "    </tr>\n",
       "    <tr>\n",
       "      <th>25%</th>\n",
       "      <td>1.000000</td>\n",
       "      <td>99.000000</td>\n",
       "      <td>62.000000</td>\n",
       "      <td>0.000000</td>\n",
       "      <td>0.000000</td>\n",
       "      <td>27.300000</td>\n",
       "      <td>0.243750</td>\n",
       "      <td>24.000000</td>\n",
       "      <td>0.000000</td>\n",
       "    </tr>\n",
       "    <tr>\n",
       "      <th>50%</th>\n",
       "      <td>3.000000</td>\n",
       "      <td>117.000000</td>\n",
       "      <td>72.000000</td>\n",
       "      <td>23.000000</td>\n",
       "      <td>30.500000</td>\n",
       "      <td>32.000000</td>\n",
       "      <td>0.372500</td>\n",
       "      <td>29.000000</td>\n",
       "      <td>0.000000</td>\n",
       "    </tr>\n",
       "    <tr>\n",
       "      <th>75%</th>\n",
       "      <td>6.000000</td>\n",
       "      <td>140.250000</td>\n",
       "      <td>80.000000</td>\n",
       "      <td>32.000000</td>\n",
       "      <td>127.250000</td>\n",
       "      <td>36.600000</td>\n",
       "      <td>0.626250</td>\n",
       "      <td>41.000000</td>\n",
       "      <td>1.000000</td>\n",
       "    </tr>\n",
       "    <tr>\n",
       "      <th>max</th>\n",
       "      <td>17.000000</td>\n",
       "      <td>199.000000</td>\n",
       "      <td>122.000000</td>\n",
       "      <td>99.000000</td>\n",
       "      <td>846.000000</td>\n",
       "      <td>67.100000</td>\n",
       "      <td>2.420000</td>\n",
       "      <td>81.000000</td>\n",
       "      <td>1.000000</td>\n",
       "    </tr>\n",
       "  </tbody>\n",
       "</table>\n",
       "</div>"
      ],
      "text/plain": [
       "       PregnancyCount     Glucose  BloodPressure  SkinThickness  SerumInsulin  \\\n",
       "count      768.000000  768.000000     768.000000     768.000000    768.000000   \n",
       "mean         3.845052  120.894531      69.105469      20.536458     79.799479   \n",
       "std          3.369578   31.972618      19.355807      15.952218    115.244002   \n",
       "min          0.000000    0.000000       0.000000       0.000000      0.000000   \n",
       "25%          1.000000   99.000000      62.000000       0.000000      0.000000   \n",
       "50%          3.000000  117.000000      72.000000      23.000000     30.500000   \n",
       "75%          6.000000  140.250000      80.000000      32.000000    127.250000   \n",
       "max         17.000000  199.000000     122.000000      99.000000    846.000000   \n",
       "\n",
       "              BMI  DiabetesPedigreeFunction         Age    Diabetic  \n",
       "count  768.000000                768.000000  768.000000  768.000000  \n",
       "mean    31.992578                  0.471876   33.240885    0.348958  \n",
       "std      7.884160                  0.331329   11.760232    0.476951  \n",
       "min      0.000000                  0.078000   21.000000    0.000000  \n",
       "25%     27.300000                  0.243750   24.000000    0.000000  \n",
       "50%     32.000000                  0.372500   29.000000    0.000000  \n",
       "75%     36.600000                  0.626250   41.000000    1.000000  \n",
       "max     67.100000                  2.420000   81.000000    1.000000  "
      ]
     },
     "execution_count": 31,
     "metadata": {},
     "output_type": "execute_result"
    }
   ],
   "source": [
    "dataset.describe()"
   ]
  },
  {
   "cell_type": "code",
   "execution_count": 32,
   "metadata": {},
   "outputs": [
    {
     "data": {
      "text/plain": [
       "Diabetic\n",
       "0    500\n",
       "1    268\n",
       "dtype: int64"
      ]
     },
     "execution_count": 32,
     "metadata": {},
     "output_type": "execute_result"
    }
   ],
   "source": [
    "dataset.groupby('Diabetic').size()"
   ]
  },
  {
   "cell_type": "code",
   "execution_count": 33,
   "metadata": {},
   "outputs": [
    {
     "data": {
      "image/png": "[encoded data removed]",
      "text/plain": [
       "<Figure size 432x288 with 9 Axes>"
      ]
     },
     "metadata": {},
     "output_type": "display_data"
    }
   ],
   "source": [
    "dataset.plot(kind='box', subplots=True, layout=(3,3), sharex=False, sharey=False)\n",
    "plt.show()"
   ]
  },
  {
   "cell_type": "code",
   "execution_count": 34,
   "metadata": {},
   "outputs": [
    {
     "data": {
      "image/png": "[encoded data removed]",
      "text/plain": [
       "<Figure size 432x288 with 9 Axes>"
      ]
     },
     "metadata": {},
     "output_type": "display_data"
    }
   ],
   "source": [
    "dataset.hist()\n",
    "plt.show()"
   ]
  },
  {
   "cell_type": "code",
   "execution_count": 35,
   "metadata": {},
   "outputs": [
    {
     "data": {
      "image/png": "[encoded data removed]",
      "text/plain": [
       "<Figure size 432x288 with 81 Axes>"
      ]
     },
     "metadata": {},
     "output_type": "display_data"
    }
   ],
   "source": [
    "scatter_matrix(dataset)\n",
    "plt.show()"
   ]
  },
  {
   "cell_type": "code",
   "execution_count": 36,
   "metadata": {},
   "outputs": [],
   "source": [
    "X = dataset.iloc[:,:8]\n",
    "Y = dataset.iloc[:,8]"
   ]
  },
  {
   "cell_type": "code",
   "execution_count": 37,
   "metadata": {},
   "outputs": [],
   "source": [
    "model = Sequential()\n",
    "model.add(Dense(12, input_dim=8, activation='relu'))\n",
    "model.add(Dense(8, activation='relu'))\n",
    "model.add(Dense(1, activation='sigmoid'))"
   ]
  },
  {
   "cell_type": "code",
   "execution_count": 38,
   "metadata": {},
   "outputs": [],
   "source": [
    "model.compile(loss='binary_crossentropy', optimizer='adam', metrics=['accuracy'])"
   ]
  },
  {
   "cell_type": "code",
   "execution_count": 42,
   "metadata": {},
   "outputs": [
    {
     "name": "stdout",
     "output_type": "stream",
     "text": [
      "Epoch 1/150\n",
      " - 0s - loss: 0.5800 - accuracy: 0.7201\n",
      "Epoch 2/150\n",
      " - 0s - loss: 0.5832 - accuracy: 0.7109\n",
      "Epoch 3/150\n",
      " - 0s - loss: 0.5821 - accuracy: 0.7148\n",
      "Epoch 4/150\n",
      " - 0s - loss: 0.5867 - accuracy: 0.6992\n",
      "Epoch 5/150\n",
      " - 0s - loss: 0.5843 - accuracy: 0.7083\n",
      "Epoch 6/150\n",
      " - 0s - loss: 0.5813 - accuracy: 0.7135\n",
      "Epoch 7/150\n",
      " - 0s - loss: 0.5803 - accuracy: 0.7188\n",
      "Epoch 8/150\n",
      " - 0s - loss: 0.5826 - accuracy: 0.7148\n",
      "Epoch 9/150\n",
      " - 0s - loss: 0.5803 - accuracy: 0.7227\n",
      "Epoch 10/150\n",
      " - 0s - loss: 0.5826 - accuracy: 0.7135\n",
      "Epoch 11/150\n",
      " - 0s - loss: 0.5815 - accuracy: 0.7148\n",
      "Epoch 12/150\n",
      " - 0s - loss: 0.5819 - accuracy: 0.7122\n",
      "Epoch 13/150\n",
      " - 0s - loss: 0.5822 - accuracy: 0.7135\n",
      "Epoch 14/150\n",
      " - 0s - loss: 0.5876 - accuracy: 0.7005\n",
      "Epoch 15/150\n",
      " - 0s - loss: 0.5823 - accuracy: 0.7122\n",
      "Epoch 16/150\n",
      " - 0s - loss: 0.5779 - accuracy: 0.7201\n",
      "Epoch 17/150\n",
      " - 0s - loss: 0.5795 - accuracy: 0.7135\n",
      "Epoch 18/150\n",
      " - 0s - loss: 0.5872 - accuracy: 0.7057\n",
      "Epoch 19/150\n",
      " - 0s - loss: 0.5772 - accuracy: 0.7227\n",
      "Epoch 20/150\n",
      " - 0s - loss: 0.5854 - accuracy: 0.7070\n",
      "Epoch 21/150\n",
      " - 1s - loss: 0.5805 - accuracy: 0.7161\n",
      "Epoch 22/150\n",
      " - 1s - loss: 0.5788 - accuracy: 0.7148\n",
      "Epoch 23/150\n",
      " - 0s - loss: 0.5834 - accuracy: 0.7096\n",
      "Epoch 24/150\n",
      " - 0s - loss: 0.5875 - accuracy: 0.7135\n",
      "Epoch 25/150\n",
      " - 0s - loss: 0.5781 - accuracy: 0.7174\n",
      "Epoch 26/150\n",
      " - 0s - loss: 0.5776 - accuracy: 0.7122\n",
      "Epoch 27/150\n",
      " - 0s - loss: 0.5775 - accuracy: 0.7161\n",
      "Epoch 28/150\n",
      " - 0s - loss: 0.5837 - accuracy: 0.7031\n",
      "Epoch 29/150\n",
      " - 0s - loss: 0.5866 - accuracy: 0.7057\n",
      "Epoch 30/150\n",
      " - 0s - loss: 0.5825 - accuracy: 0.7109\n",
      "Epoch 31/150\n",
      " - 0s - loss: 0.5780 - accuracy: 0.7122\n",
      "Epoch 32/150\n",
      " - 0s - loss: 0.5784 - accuracy: 0.7253\n",
      "Epoch 33/150\n",
      " - 0s - loss: 0.5868 - accuracy: 0.7044\n",
      "Epoch 34/150\n",
      " - 0s - loss: 0.5805 - accuracy: 0.7122\n",
      "Epoch 35/150\n",
      " - 0s - loss: 0.5775 - accuracy: 0.7161\n",
      "Epoch 36/150\n",
      " - 0s - loss: 0.5836 - accuracy: 0.7057\n",
      "Epoch 37/150\n",
      " - 0s - loss: 0.5782 - accuracy: 0.7174\n",
      "Epoch 38/150\n",
      " - 0s - loss: 0.5772 - accuracy: 0.7188\n",
      "Epoch 39/150\n",
      " - 0s - loss: 0.5780 - accuracy: 0.7161\n",
      "Epoch 40/150\n",
      " - 0s - loss: 0.5788 - accuracy: 0.7174\n",
      "Epoch 41/150\n",
      " - 0s - loss: 0.5759 - accuracy: 0.7201\n",
      "Epoch 42/150\n",
      " - 0s - loss: 0.5795 - accuracy: 0.7161\n",
      "Epoch 43/150\n",
      " - 0s - loss: 0.5751 - accuracy: 0.7174\n",
      "Epoch 44/150\n",
      " - 0s - loss: 0.5789 - accuracy: 0.7188\n",
      "Epoch 45/150\n",
      " - 0s - loss: 0.5770 - accuracy: 0.7135\n",
      "Epoch 46/150\n",
      " - 0s - loss: 0.5780 - accuracy: 0.7096\n",
      "Epoch 47/150\n",
      " - 0s - loss: 0.5757 - accuracy: 0.7174\n",
      "Epoch 48/150\n",
      " - 0s - loss: 0.5748 - accuracy: 0.7266\n",
      "Epoch 49/150\n",
      " - 0s - loss: 0.5771 - accuracy: 0.7266\n",
      "Epoch 50/150\n",
      " - 0s - loss: 0.5754 - accuracy: 0.7135\n",
      "Epoch 51/150\n",
      " - 0s - loss: 0.5754 - accuracy: 0.7188\n",
      "Epoch 52/150\n",
      " - 0s - loss: 0.5745 - accuracy: 0.7240\n",
      "Epoch 53/150\n",
      " - 0s - loss: 0.5758 - accuracy: 0.7214\n",
      "Epoch 54/150\n",
      " - 0s - loss: 0.5754 - accuracy: 0.7148\n",
      "Epoch 55/150\n",
      " - 0s - loss: 0.5748 - accuracy: 0.7161\n",
      "Epoch 56/150\n",
      " - 0s - loss: 0.5707 - accuracy: 0.7305\n",
      "Epoch 57/150\n",
      " - 0s - loss: 0.5739 - accuracy: 0.7174\n",
      "Epoch 58/150\n",
      " - 0s - loss: 0.5779 - accuracy: 0.7188\n",
      "Epoch 59/150\n",
      " - 0s - loss: 0.5751 - accuracy: 0.7109\n",
      "Epoch 60/150\n",
      " - 0s - loss: 0.5788 - accuracy: 0.7135\n",
      "Epoch 61/150\n",
      " - 0s - loss: 0.5781 - accuracy: 0.7174\n",
      "Epoch 62/150\n",
      " - 0s - loss: 0.5775 - accuracy: 0.7227\n",
      "Epoch 63/150\n",
      " - 0s - loss: 0.5740 - accuracy: 0.7135\n",
      "Epoch 64/150\n",
      " - 0s - loss: 0.5781 - accuracy: 0.7214\n",
      "Epoch 65/150\n",
      " - 0s - loss: 0.5826 - accuracy: 0.7148\n",
      "Epoch 66/150\n",
      " - 0s - loss: 0.5749 - accuracy: 0.7201\n",
      "Epoch 67/150\n",
      " - 0s - loss: 0.5825 - accuracy: 0.7109\n",
      "Epoch 68/150\n",
      " - 0s - loss: 0.5745 - accuracy: 0.7135\n",
      "Epoch 69/150\n",
      " - 0s - loss: 0.5821 - accuracy: 0.7174\n",
      "Epoch 70/150\n",
      " - 0s - loss: 0.5745 - accuracy: 0.7201\n",
      "Epoch 71/150\n",
      " - 0s - loss: 0.5753 - accuracy: 0.7174\n",
      "Epoch 72/150\n",
      " - 0s - loss: 0.5745 - accuracy: 0.7188\n",
      "Epoch 73/150\n",
      " - 0s - loss: 0.5790 - accuracy: 0.7122\n",
      "Epoch 74/150\n",
      " - 0s - loss: 0.5726 - accuracy: 0.7174\n",
      "Epoch 75/150\n",
      " - 0s - loss: 0.5877 - accuracy: 0.7096\n",
      "Epoch 76/150\n",
      " - 0s - loss: 0.5803 - accuracy: 0.7057\n",
      "Epoch 77/150\n",
      " - 0s - loss: 0.5763 - accuracy: 0.7148\n",
      "Epoch 78/150\n",
      " - 0s - loss: 0.5727 - accuracy: 0.7188\n",
      "Epoch 79/150\n",
      " - 0s - loss: 0.5725 - accuracy: 0.7266\n",
      "Epoch 80/150\n",
      " - 0s - loss: 0.5754 - accuracy: 0.7188\n",
      "Epoch 81/150\n",
      " - 0s - loss: 0.5711 - accuracy: 0.7240\n",
      "Epoch 82/150\n",
      " - 0s - loss: 0.5727 - accuracy: 0.7201\n",
      "Epoch 83/150\n",
      " - 0s - loss: 0.5746 - accuracy: 0.7253\n",
      "Epoch 84/150\n",
      " - 0s - loss: 0.5731 - accuracy: 0.7227\n",
      "Epoch 85/150\n",
      " - 0s - loss: 0.5711 - accuracy: 0.7201\n",
      "Epoch 86/150\n",
      " - 0s - loss: 0.5735 - accuracy: 0.7240\n",
      "Epoch 87/150\n",
      " - 0s - loss: 0.5755 - accuracy: 0.7201\n",
      "Epoch 88/150\n",
      " - 0s - loss: 0.5713 - accuracy: 0.7240\n",
      "Epoch 89/150\n",
      " - 0s - loss: 0.5772 - accuracy: 0.7135\n",
      "Epoch 90/150\n",
      " - 0s - loss: 0.5788 - accuracy: 0.7161\n",
      "Epoch 91/150\n",
      " - 0s - loss: 0.5751 - accuracy: 0.7188\n",
      "Epoch 92/150\n",
      " - 0s - loss: 0.5723 - accuracy: 0.7135\n",
      "Epoch 93/150\n",
      " - 0s - loss: 0.5755 - accuracy: 0.7201\n",
      "Epoch 94/150\n",
      " - 0s - loss: 0.5778 - accuracy: 0.7096\n",
      "Epoch 95/150\n",
      " - 0s - loss: 0.5708 - accuracy: 0.7266\n",
      "Epoch 96/150\n",
      " - 0s - loss: 0.5727 - accuracy: 0.7240\n",
      "Epoch 97/150\n",
      " - 0s - loss: 0.5730 - accuracy: 0.7214\n",
      "Epoch 98/150\n",
      " - 0s - loss: 0.5717 - accuracy: 0.7201\n",
      "Epoch 99/150\n",
      " - 0s - loss: 0.5742 - accuracy: 0.7240\n",
      "Epoch 100/150\n",
      " - 0s - loss: 0.5730 - accuracy: 0.7188\n",
      "Epoch 101/150\n",
      " - 0s - loss: 0.5696 - accuracy: 0.7240\n",
      "Epoch 102/150\n",
      " - 0s - loss: 0.5762 - accuracy: 0.7174\n",
      "Epoch 103/150\n",
      " - 0s - loss: 0.5688 - accuracy: 0.7266\n",
      "Epoch 104/150\n",
      " - 0s - loss: 0.5732 - accuracy: 0.7201\n",
      "Epoch 105/150\n",
      " - 0s - loss: 0.5779 - accuracy: 0.7253\n",
      "Epoch 106/150\n",
      " - 0s - loss: 0.5730 - accuracy: 0.7214\n",
      "Epoch 107/150\n",
      " - 0s - loss: 0.5766 - accuracy: 0.7253\n",
      "Epoch 108/150\n",
      " - 0s - loss: 0.5695 - accuracy: 0.7279\n",
      "Epoch 109/150\n",
      " - 0s - loss: 0.5688 - accuracy: 0.7279\n",
      "Epoch 110/150\n",
      " - 0s - loss: 0.5762 - accuracy: 0.7148\n",
      "Epoch 111/150\n",
      " - 0s - loss: 0.5735 - accuracy: 0.7227\n",
      "Epoch 112/150\n",
      " - 0s - loss: 0.5716 - accuracy: 0.7227\n",
      "Epoch 113/150\n",
      " - 0s - loss: 0.5766 - accuracy: 0.7201\n",
      "Epoch 114/150\n",
      " - 0s - loss: 0.5730 - accuracy: 0.7161\n",
      "Epoch 115/150\n",
      " - 0s - loss: 0.5679 - accuracy: 0.7331\n",
      "Epoch 116/150\n",
      " - 0s - loss: 0.5777 - accuracy: 0.7188\n",
      "Epoch 117/150\n",
      " - 0s - loss: 0.5779 - accuracy: 0.7201\n",
      "Epoch 118/150\n",
      " - 0s - loss: 0.5787 - accuracy: 0.7253\n",
      "Epoch 119/150\n",
      " - 0s - loss: 0.5711 - accuracy: 0.7188\n",
      "Epoch 120/150\n",
      " - 0s - loss: 0.5752 - accuracy: 0.7161\n",
      "Epoch 121/150\n",
      " - 0s - loss: 0.5692 - accuracy: 0.7253\n",
      "Epoch 122/150\n",
      " - 0s - loss: 0.5683 - accuracy: 0.7279\n",
      "Epoch 123/150\n",
      " - 0s - loss: 0.5691 - accuracy: 0.7266\n",
      "Epoch 124/150\n",
      " - 0s - loss: 0.5717 - accuracy: 0.7318\n",
      "Epoch 125/150\n",
      " - 0s - loss: 0.5693 - accuracy: 0.7266\n",
      "Epoch 126/150\n",
      " - 0s - loss: 0.5727 - accuracy: 0.7161\n",
      "Epoch 127/150\n",
      " - 0s - loss: 0.5691 - accuracy: 0.7240\n",
      "Epoch 128/150\n",
      " - 0s - loss: 0.5760 - accuracy: 0.7240\n",
      "Epoch 129/150\n",
      " - 0s - loss: 0.5748 - accuracy: 0.7214\n",
      "Epoch 130/150\n",
      " - 0s - loss: 0.5721 - accuracy: 0.7214\n",
      "Epoch 131/150\n",
      " - 0s - loss: 0.5827 - accuracy: 0.7214\n",
      "Epoch 132/150\n",
      " - 0s - loss: 0.5681 - accuracy: 0.7253\n",
      "Epoch 133/150\n",
      " - 0s - loss: 0.5786 - accuracy: 0.7096\n",
      "Epoch 134/150\n",
      " - 0s - loss: 0.5706 - accuracy: 0.7227\n",
      "Epoch 135/150\n",
      " - 0s - loss: 0.5677 - accuracy: 0.7279\n",
      "Epoch 136/150\n",
      " - 0s - loss: 0.5774 - accuracy: 0.7174\n",
      "Epoch 137/150\n",
      " - 0s - loss: 0.5749 - accuracy: 0.7188\n",
      "Epoch 138/150\n",
      " - 0s - loss: 0.5734 - accuracy: 0.7240\n",
      "Epoch 139/150\n",
      " - 0s - loss: 0.5699 - accuracy: 0.7279\n",
      "Epoch 140/150\n",
      " - 0s - loss: 0.5673 - accuracy: 0.7253\n",
      "Epoch 141/150\n",
      " - 0s - loss: 0.5700 - accuracy: 0.7266\n",
      "Epoch 142/150\n",
      " - 0s - loss: 0.5753 - accuracy: 0.7122\n",
      "Epoch 143/150\n",
      " - 0s - loss: 0.5708 - accuracy: 0.7214\n",
      "Epoch 144/150\n",
      " - 0s - loss: 0.5779 - accuracy: 0.7174\n",
      "Epoch 145/150\n",
      " - 0s - loss: 0.5722 - accuracy: 0.7174\n",
      "Epoch 146/150\n",
      " - 0s - loss: 0.5762 - accuracy: 0.7135\n",
      "Epoch 147/150\n",
      " - 0s - loss: 0.5752 - accuracy: 0.7188\n",
      "Epoch 148/150\n",
      " - 0s - loss: 0.5703 - accuracy: 0.7253\n",
      "Epoch 149/150\n",
      " - 0s - loss: 0.5730 - accuracy: 0.7188\n",
      "Epoch 150/150\n",
      " - 1s - loss: 0.5739 - accuracy: 0.7253\n"
     ]
    },
    {
     "data": {
      "text/plain": [
       "<keras.callbacks.callbacks.History at 0x1d739cdd710>"
      ]
     },
     "execution_count": 42,
     "metadata": {},
     "output_type": "execute_result"
    }
   ],
   "source": [
    "model.fit(X, Y, epochs=150, batch_size=10, verbose=2)\n",
    "# evaluate the model"
   ]
  },
  {
   "cell_type": "code",
   "execution_count": 43,
   "metadata": {},
   "outputs": [
    {
     "name": "stdout",
     "output_type": "stream",
     "text": [
      "768/768 [==============================] - 0s 129us/step\n",
      "\n",
      "accuracy: 72.79%\n"
     ]
    }
   ],
   "source": [
    "scores = model.evaluate(X, Y)\n",
    "print(\"\\n%s: %.2f%%\" % (model.metrics_names[1], scores[1]*100))"
   ]
  },
  {
   "cell_type": "code",
   "execution_count": 19,
   "metadata": {},
   "outputs": [],
   "source": [
    "predictions = model.predict(X)"
   ]
  },
  {
   "cell_type": "code",
   "execution_count": 21,
   "metadata": {},
   "outputs": [
    {
     "name": "stdout",
     "output_type": "stream",
     "text": [
      "[1, 0, 1, 0, 1, 0, 0, 1, 1, 0, 0, 1, 1, 1, 1, 0, 0, 0, 1, 0, 0, 0, 1, 0, 1, 1, 1, 0, 0, 0, 1, 1, 0, 0, 1, 1, 1, 1, 0, 1, 1, 1, 0, 1, 1, 1, 1, 0, 0, 0, 0, 0, 0, 1, 1, 0, 1, 0, 1, 0, 0, 1, 0, 1, 1, 0, 0, 0, 0, 0, 0, 1, 1, 0, 0, 0, 0, 0, 1, 0, 0, 0, 0, 0, 1, 0, 1, 0, 1, 0, 0, 0, 0, 0, 0, 1, 0, 0, 0, 0, 1, 1, 0, 0, 0, 0, 0, 1, 0, 0, 1, 1, 0, 0, 1, 1, 1, 0, 0, 0, 1, 0, 0, 0, 0, 1, 0, 0, 0, 0, 1, 1, 1, 1, 0, 1, 0, 0, 0, 0, 0, 0, 0, 1, 1, 0, 0, 1, 1, 0, 1, 0, 1, 1, 1, 1, 0, 0, 0, 1, 0, 0, 0, 0, 0, 1, 1, 1, 0, 0, 0, 1, 0, 0, 0, 1, 0, 1, 1, 1, 0, 0, 0, 0, 1, 1, 1, 0, 1, 1, 0, 0, 1, 1, 1, 1, 0, 0, 0, 1, 0, 1, 0, 0, 1, 0, 1, 1, 0, 1, 0, 1, 1, 1, 1, 1, 1, 1, 0, 1, 1, 1, 0, 1, 0, 0, 0, 1, 1, 0, 1, 1, 0, 1, 0, 1, 1, 1, 1, 0, 0, 0, 1, 1, 1, 1, 1, 1, 1, 0, 1, 0, 0, 0, 1, 0, 0, 0, 1, 1, 1, 1, 0, 1, 1, 0, 1, 0, 0, 1, 1, 0, 0, 0, 1, 0, 0, 0, 0, 0, 1, 1, 1, 1, 0, 1, 1, 0, 0, 0, 0, 0, 1, 1, 0, 1, 1, 0, 1, 0, 1, 1, 0, 1, 0, 0, 1, 0, 0, 1, 0, 0, 0, 0, 1, 0, 0, 1, 1, 1, 1, 0, 0, 1, 0, 1, 1, 1, 0, 0, 1, 0, 1, 0, 0, 1, 0, 0, 1, 1, 0, 0, 0, 0, 0, 0, 1, 0, 0, 0, 0, 0, 0, 0, 0, 1, 1, 1, 0, 1, 1, 1, 0, 1, 1, 0, 1, 0, 0, 1, 1, 0, 0, 0, 1, 1, 0, 0, 1, 0, 0, 0, 0, 0, 0, 0, 1, 1, 1, 0, 1, 1, 0, 0, 1, 1, 0, 0, 0, 1, 0, 0, 0, 0, 1, 1, 0, 0, 1, 1, 0, 0, 0, 0, 1, 1, 0, 1, 0, 1, 0, 0, 0, 0, 1, 1, 0, 1, 0, 0, 0, 0, 0, 0, 0, 1, 1, 1, 0, 0, 1, 0, 0, 1, 1, 1, 0, 0, 0, 0, 0, 1, 0, 0, 0, 1, 0, 0, 1, 0, 0, 0, 0, 0, 0, 0, 0, 0, 0, 1, 0, 0, 1, 1, 0, 1, 1, 0, 0, 1, 1, 0, 0, 0, 1, 1, 1, 1, 0, 1, 0, 0, 0, 1, 0, 1, 0, 0, 1, 1, 0, 0, 1, 0, 0, 0, 1, 0, 0, 0, 1, 0, 0, 0, 0, 1, 1, 1, 0, 1, 0, 0, 0, 1, 1, 0, 0, 0, 0, 0, 0, 1, 0, 0, 0, 1, 0, 0, 0, 1, 1, 0, 1, 0, 0, 1, 1, 1, 0, 1, 0, 0, 0, 0, 0, 1, 0, 0, 1, 0, 1, 1, 0, 0, 0, 0, 0, 0, 1, 1, 0, 0, 0, 0, 0, 0, 1, 1, 1, 1, 1, 0, 0, 1, 1, 0, 1, 0, 1, 0, 1, 0, 1, 0, 1, 1, 0, 0, 1, 1, 0, 0, 0, 1, 1, 1, 1, 0, 1, 0, 0, 1, 1, 0, 1, 0, 0, 0, 1, 1, 0, 0, 1, 0, 0, 0, 0, 0, 1, 0, 1, 0, 0, 0, 0, 1, 0, 0, 0, 0, 0, 1, 1, 0, 0, 1, 1, 1, 1, 0, 0, 0, 0, 1, 0, 1, 0, 1, 1, 0, 1, 1, 1, 1, 1, 0, 1, 1, 1, 1, 1, 0, 0, 1, 0, 1, 1, 0, 1, 0, 0, 1, 0, 0, 0, 0, 0, 0, 0, 1, 0, 1, 0, 1, 0, 1, 1, 1, 0, 1, 0, 1, 1, 0, 0, 0, 0, 1, 1, 0, 1, 0, 1, 0, 0, 1, 1, 0, 1, 1, 0, 0, 1, 0, 0, 0, 0, 0, 1, 0, 0, 0, 1, 0, 0, 0, 0, 0, 0, 0, 1, 0, 0, 1, 1, 0, 1, 0, 1, 1, 1, 0, 0, 1, 1, 0, 1, 1, 0, 1, 0, 1, 0, 0, 0, 0, 1, 0]\n"
     ]
    }
   ],
   "source": [
    "labeled_predict = [int(numpy.round(x, 0)) for x in predictions]\n",
    "print(labeled_predict)"
   ]
  },
  {
   "cell_type": "code",
   "execution_count": 22,
   "metadata": {},
   "outputs": [
    {
     "name": "stdout",
     "output_type": "stream",
     "text": [
      "Rounded type:  <class 'list'>\n",
      "Shape of rounded:  768\n",
      "Dataset type:  <class 'pandas.core.frame.DataFrame'>\n",
      "Shape of dataset:  (768, 9)\n"
     ]
    }
   ],
   "source": [
    "print(\"Labeled_predict type: \", type(labeled_predict))\n",
    "print(\"Shape of rounded: \", len(labeled_predict))\n",
    "print(\"Dataset type: \", type(dataset))\n",
    "print(\"Shape of dataset: \", dataset.shape)"
   ]
  },
  {
   "cell_type": "code",
   "execution_count": 23,
   "metadata": {},
   "outputs": [
    {
     "name": "stdout",
     "output_type": "stream",
     "text": [
      "Rounded type:  <class 'numpy.ndarray'>\n"
     ]
    }
   ],
   "source": [
    "# Turn labeled_predict from a 'list' class into a numpy array\n",
    "newlabeled = numpy.array(labeled_predict)\n",
    "print(\"Rounded type: \", type(newlabeled))"
   ]
  },
  {
   "cell_type": "code",
   "execution_count": 26,
   "metadata": {
    "scrolled": true
   },
   "outputs": [
    {
     "name": "stdout",
     "output_type": "stream",
     "text": [
      "Predicted    0    1  All\n",
      "Actual                  \n",
      "0          386  114  500\n",
      "1           52  216  268\n",
      "All        438  330  768\n"
     ]
    }
   ],
   "source": [
    "# Create a confusion matrix with the actual values and predicted probabilities\n",
    "confusion_matrix = pandas.crosstab(Y, newlabeled, rownames=['Actual'], colnames=['Predicted'], margins=True)\n",
    "print(confusion_matrix)"
   ]
  },
  {
   "cell_type": "code",
   "execution_count": null,
   "metadata": {},
   "outputs": [],
   "source": []
  }
 ],
 "metadata": {
  "kernelspec": {
   "display_name": "Python 3",
   "language": "python",
   "name": "python3"
  },
  "language_info": {
   "codemirror_mode": {
    "name": "ipython",
    "version": 3
   },
   "file_extension": ".py",
   "mimetype": "text/x-python",
   "name": "python",
   "nbconvert_exporter": "python",
   "pygments_lexer": "ipython3",
   "version": "3.5.5"
  }
 },
 "nbformat": 4,
 "nbformat_minor": 2
}
